{
 "cells": [
  {
   "cell_type": "markdown",
   "metadata": {},
   "source": [
    "# Exploratory Data Analysis (EDA) of Processed Sentinel-2 Satellite Imagery\n",
    "\n",
    "This notebook performs an initial EDA on processed Sentinel-2 satellite imagery for a selected test AOI. The goal is to visually inspect the data, generate various band composites and spectral indices, and identify potential anomalies or features indicative of past human activity or interesting environmental patterns."
   ]
  },
  {
   "cell_type": "code",
   "execution_count": null,
   "metadata": {},
   "outputs": [],
   "source": [
    "import configparser\n",
    "from pathlib import Path\n",
    "import rasterio\n",
    "from rasterio.plot import show, show_hist\n",
    "import matplotlib.pyplot as plt\n",
    "import numpy as np\n",
    "import rioxarray # For easier band management and calculations with xarray\n",
    "import xarray as xr # Though rioxarray might handle most direct needs\n",
    "import geopandas\n",
    "\n",
    "# Helper function for plotting with colorbar\n",
    "def plot_raster(data_array, ax, title, cmap='viridis', cbar_label=None):\n",
    "    im = ax.imshow(data_array, cmap=cmap)\n",
    "    ax.set_title(title)\n",
    "    ax.set_xlabel(\"Easting (pixels)\")\n",
    "    ax.set_ylabel(\"Northing (pixels)\")\n",
    "    plt.colorbar(im, ax=ax, label=cbar_label, fraction=0.046, pad=0.04)\n",
    "    ax.set_xticks([])\n",
    "    ax.set_yticks([])"
   ]
  },
  {
   "cell_type": "markdown",
   "metadata": {},
   "source": [
    "## 1. Configuration and Setup"
   ]
  },
  {
   "cell_type": "code",
   "execution_count": null,
   "metadata": {},
   "outputs": [],
   "source": [
    "CONFIG_FILE_PATH = \"../scripts/satellite_pipeline/config.ini\" # Adjust if your config is elsewhere\n",
    "SCRIPT_DIR = Path(\".\").resolve().parent # Assuming notebook is in 'notebooks' dir, so parent is project root\n",
    "EDA_OUTPUT_DIR = SCRIPT_DIR / \"eda_outputs\" / \"satellite\"\n",
    "EDA_OUTPUT_DIR.mkdir(parents=True, exist_ok=True)\n",
    "\n",
    "def load_config(config_path):\n",
    "    config = configparser.ConfigParser(interpolation=None, allow_no_value=True)\n",
    "    if not Path(config_path).exists():\n",
    "        raise FileNotFoundError(f\"Configuration file '{config_path}' not found.\")\n",
    "    config.read(config_path)\n",
    "    return config\n",
    "\n",
    "config = load_config(CONFIG_FILE_PATH)\n",
    "\n",
    "# Get relevant paths from config\n",
    "base_processed_dir_raw = config['DEFAULT'].get('base_processed_data_dir', '../../data')\n",
    "s2_processed_suffix = config['DEFAULT'].get('s2_processed_suffix', 'sentinel2/processed') # From original satellite pipeline config\n",
    "\n",
    "# Construct absolute path for processed_satellite_dir from SCRIPT_DIR (project root)\n",
    "PROCESSED_SATELLITE_DIR = (SCRIPT_DIR / base_processed_dir_raw.replace('../../', '') / s2_processed_suffix).resolve()\n",
    "\n",
    "print(f\"Processed Satellite Directory: {PROCESSED_SATELLITE_DIR}\")\n",
    "print(f\"EDA Output Directory: {EDA_OUTPUT_DIR}\")\n",
    "\n",
    "# AOI definition (example: using the bbox from config for context)\n",
    "aoi_bbox_str = config['DEFAULT'].get('aoi_bbox')\n",
    "aoi_geojson_path_str = config['DEFAULT'].get('aoi_geojson_path')\n",
    "aoi_geom = None\n",
    "\n",
    "if aoi_geojson_path_str and Path(SCRIPT_DIR / aoi_geojson_path_str.replace('../../','').replace('../','')).exists():\n",
    "    aoi_geojson_path = Path(SCRIPT_DIR / aoi_geojson_path_str.replace('../../','').replace('../',''))\n",
    "    aoi_gdf = geopandas.read_file(aoi_geojson_path)\n",
    "    aoi_geom = aoi_gdf.geometry.iloc[0]\n",
    "    print(f\"Using AOI from GeoJSON: {aoi_geojson_path}\")\n",
    "elif aoi_bbox_str:\n",
    "    coords = [float(c.strip()) for c in aoi_bbox_str.split(',')]\n",
    "    minx, miny, maxx, maxy = coords\n",
    "    aoi_geom = geopandas.GeoSeries([box(minx, miny, maxx, maxy)], crs=\"EPSG:4326\")\n",
    "    print(f\"Using AOI from BBOX (EPSG:4326): {coords}\")\n",
    "else:\n",
    "    print(\"No AOI geometry found in config (aoi_geojson_path or aoi_bbox).\")"
   ]
  },
  {
   "cell_type": "markdown",
   "metadata": {},
   "source": [
    "## 2. Load Processed Sentinel-2 Data\n",
    "\n",
    "We need to find a processed Sentinel-2 GeoTIFF file. These files are typically multi-band, containing the selected bands (e.g., Blue, Green, Red, NIR) as specified in the `config.ini` during the `preprocess_sentinel2.py` step. The filename usually indicates the original product name and processing details."
   ]
  },
  {
   "cell_type": "code",
   "execution_count": null,
   "metadata": {},
   "outputs": [],
   "source": [
    "# Find a processed Sentinel-2 file\n",
    "# Example filename: S2A_MSIL2A_20230716T142721_N0509_R025_T20NKE_20230716T203922_Processed_B02B03B04B08_10m.tif\n",
    "processed_s2_files = list(PROCESSED_SATELLITE_DIR.glob(\"*_Processed_*.tif\"))\n",
    "\n",
    "if not processed_s2_files:\n",
    "    raise FileNotFoundError(f\"No processed Sentinel-2 files found in {PROCESSED_SATELLITE_DIR} matching '*_Processed_*.tif'\")\n",
    "\n",
    "selected_s2_path = processed_s2_files[0] # Pick the first one for this EDA\n",
    "print(f\"Selected Processed Sentinel-2 File: {selected_s2_path}\")\n",
    "\n",
    "# Load the multi-band raster using rioxarray\n",
    "# This loads it as an xarray.DataArray, which is convenient for band operations\n",
    "try:\n",
    "    s2_data_xr = rioxarray.open_rasterio(selected_s2_path, masked=True)\n",
    "except rasterio.errors.RasterioIOError as e:\n",
    "    print(f\"Error opening raster file {selected_s2_path}: {e}\")\n",
    "    print(\"This might be due to the file being empty, corrupt, or GDAL drivers not being available.\")\n",
    "    raise\n",
    "\n",
    "# Infer band names from config or assume order if not available in metadata\n",
    "# The preprocess_sentinel2.py script saves bands in the order specified in 'output_bands' config\n",
    "output_bands_str = config['PREPROCESSING'].get('output_bands', 'B02,B03,B04,B08')\n",
    "configured_bands = [b.strip().upper() for b in output_bands_str.split(',')]\n",
    "\n",
    "if len(configured_bands) == s2_data_xr.shape[0]: # Number of bands in file matches config\n",
    "    s2_data_xr = s2_data_xr.assign_coords(band=configured_bands)\n",
    "    print(f\"Assigned band names from config: {configured_bands}\")\n",
    "else:\n",
    "    print(f\"Warning: Number of bands in file ({s2_data_xr.shape[0]}) does not match 'output_bands' in config ({len(configured_bands)}).\")\n",
    "    print(\"Band names will be integers. Composites and indices might be incorrect if order is not as expected (B,G,R,NIR,...).\")\n",
    "    # Default band names if they can't be inferred reliably for dictionary access\n",
    "    # This assumes a default order like B, G, R, NIR for the first 4 bands if names are integers\n",
    "    # For robust dictionary access, we ensure band coordinates are strings\n",
    "    s2_data_xr = s2_data_xr.assign_coords(band=[str(b+1) for b in range(s2_data_xr.shape[0])])\n",
    "\n",
    "print(\"\\nSentinel-2 DataArray properties:\")\n",
    "print(s2_data_xr)\n",
    "\n",
    "# For plotting, select a single time slice if there's a time dimension (usually not for these processed files)\n",
    "if 'time' in s2_data_xr.dims:\n",
    "    s2_data_xr = s2_data_xr.isel(time=0)\n",
    "\n",
    "# Define common bands for easier access - adjust based on your actual band names/order\n",
    "# These try to use the configured names first, then fall back to index if names are just numbers\n",
    "def get_band(data_array, desired_band_name, fallback_index):\n",
    "    try:\n",
    "        return data_array.sel(band=desired_band_name)\n",
    "    except KeyError:\n",
    "        print(f\"Band '{desired_band_name}' not found by name. Trying index {fallback_index}.\")\n",
    "        if fallback_index < len(data_array.band):\n",
    "            return data_array.isel(band=fallback_index)\n",
    "        else:\n",
    "            raise ValueError(f\"Band {desired_band_name} (index {fallback_index}) not available in data with bands: {data_array.band.values}\")\n",
    "\n",
    "BLUE = get_band(s2_data_xr, 'B02', 0) # Sentinel-2 Blue: Band 2\n",
    "GREEN = get_band(s2_data_xr, 'B03', 1) # Sentinel-2 Green: Band 3\n",
    "RED = get_band(s2_data_xr, 'B04', 2)   # Sentinel-2 Red: Band 4\n",
    "NIR = get_band(s2_data_xr, 'B08', 3)    # Sentinel-2 NIR: Band 8\n",
    "# SWIR1 = get_band(s2_data_xr, 'B11', 4) # Sentinel-2 SWIR1: Band 11 (if included)\n",
    "# SWIR2 = get_band(s2_data_xr, 'B12', 5) # Sentinel-2 SWIR2: Band 12 (if included)"
   ]
  },
  {
   "cell_type": "markdown",
   "metadata": {},
   "source": [
    "## 3. Band Composites"
   ]
  },
  {
   "cell_type": "markdown",
   "metadata": {},
   "source": [
    "### 3.1. True Color Composite (Red, Green, Blue)"
   ]
  },
  {
   "cell_type": "code",
   "execution_count": null,
   "metadata": {},
   "outputs": [],
   "source": [
    "# Normalize bands for display (simple percentile clip)\n",
    "def normalize_for_display(band_array):\n",
    "    # Ensure it's a numpy array for percentile calculation if it's an xarray.DataArray\n",
    "    data = band_array.data.astype(np.float32)\n",
    "    # Handle potential NaNs if data is masked\n",
    "    if np.isnan(data).any():\n",
    "        min_val, max_val = np.nanpercentile(data, [2, 98])\n",
    "    else:\n",
    "        min_val, max_val = np.percentile(data, [2, 98])\n",
    "    \n",
    "    normalized = (data - min_val) / (max_val - min_val)\n",
    "    return np.clip(normalized, 0, 1)\n",
    "\n",
    "r_norm = normalize_for_display(RED)\n",
    "g_norm = normalize_for_display(GREEN)\n",
    "b_norm = normalize_for_display(BLUE)\n",
    "\n",
    "true_color_composite = np.dstack((r_norm, g_norm, b_norm))\n",
    "\n",
    "fig, ax = plt.subplots(1, 1, figsize=(10, 10))\n",
    "ax.imshow(true_color_composite)\n",
    "ax.set_title('True Color Composite (RGB)')\n",
    "ax.set_xlabel(\"Easting (pixels)\")\n",
    "ax.set_ylabel(\"Northing (pixels)\")\n",
    "ax.set_xticks([])\n",
    "ax.set_yticks([])\n",
    "plt.savefig(EDA_OUTPUT_DIR / f\"{Path(selected_s2_path).stem}_true_color.png\")\n",
    "plt.show()"
   ]
  },
  {
   "cell_type": "markdown",
   "metadata": {},
   "source": [
    "**Observations (True Color):**\n",
    "- *[TODO: Add observations. Describe the general appearance. Are there visible signs of modern agriculture, deforestation, settlements, roads, rivers? Any unusual soil colors or patterns?]*"
   ]
  },
  {
   "cell_type": "markdown",
   "metadata": {},
   "source": [
    "### 3.2. False Color Composite (NIR, Red, Green)"
   ]
  },
  {
   "cell_type": "code",
   "execution_count": null,
   "metadata": {},
   "outputs": [],
   "source": [
    "nir_norm = normalize_for_display(NIR)\n",
    "# r_norm, g_norm already calculated\n",
    "\n",
    "false_color_composite_veg = np.dstack((nir_norm, r_norm, g_norm))\n",
    "\n",
    "fig, ax = plt.subplots(1, 1, figsize=(10, 10))\n",
    "ax.imshow(false_color_composite_veg)\n",
    "ax.set_title('False Color Composite (NIR-Red-Green - Vegetation Emphasis)')\n",
    "ax.set_xlabel(\"Easting (pixels)\")\n",
    "ax.set_ylabel(\"Northing (pixels)\")\n",
    "ax.set_xticks([])\n",
    "ax.set_yticks([])\n",
    "plt.savefig(EDA_OUTPUT_DIR / f\"{Path(selected_s2_path).stem}_false_color_veg.png\")\n",
    "plt.show()"
   ]
  },
  {
   "cell_type": "markdown",
   "metadata": {},
   "source": [
    "**Observations (False Color - Vegetation):**\n",
    "- *[TODO: Add observations. Healthy vegetation should appear bright red. How does this composite highlight different types of vegetation or land cover? Are there geometric patterns in the red tones that might suggest past agriculture or earthworks now overgrown? Any areas of stressed vegetation (less red)?]*"
   ]
  },
  {
   "cell_type": "markdown",
   "metadata": {},
   "source": [
    "## 4. Spectral Indices"
   ]
  },
  {
   "cell_type": "markdown",
   "metadata": {},
   "source": [
    "### 4.1. NDVI (Normalized Difference Vegetation Index)"
   ]
  },
  {
   "cell_type": "code",
   "execution_count": null,
   "metadata": {},
   "outputs": [],
   "source": [
    "# Ensure bands are float for calculation\n",
    "nir_float = NIR.astype(np.float32)\n",
    "red_float = RED.astype(np.float32)\n",
    "\n",
    "# Calculate NDVI, handling potential division by zero\n",
    "ndvi = xr.where(nir_float + red_float == 0, 0, (nir_float - red_float) / (nir_float + red_float))\n",
    "\n",
    "fig, ax = plt.subplots(1, 1, figsize=(10, 8))\n",
    "plot_raster(ndvi, ax, title='NDVI (Normalized Difference Vegetation Index)', cmap='RdYlGn', cbar_label='NDVI Value')\n",
    "plt.savefig(EDA_OUTPUT_DIR / f\"{Path(selected_s2_path).stem}_ndvi.png\")\n",
    "plt.show()\n",
    "\n",
    "# Histogram of NDVI values\n",
    "fig_hist, ax_hist = plt.subplots(1,1, figsize=(8,5))\n",
    "ndvi.plot.hist(ax=ax_hist, bins=100)\n",
    "ax_hist.set_title('NDVI Value Distribution')\n",
    "plt.savefig(EDA_OUTPUT_DIR / f\"{Path(selected_s2_path).stem}_ndvi_histogram.png\")\n",
    "plt.show()"
   ]
  },
  {
   "cell_type": "markdown",
   "metadata": {},
   "source": [
    "**Observations (NDVI):**\n",
    "- *[TODO: Add observations. Describe the NDVI patterns. High values indicate healthy vegetation, low values bare soil or water. Are there any geometric shapes, linear features, or unusually shaped patches of high/low NDVI that don't correspond to modern features visible in the true/false color images? Consider if any patterns might suggest ancient fields, earthworks altering vegetation, or 'terra preta' soils.]*"
   ]
  },
  {
   "cell_type": "markdown",
   "metadata": {},
   "source": [
    "### 4.2. NDWI (Normalized Difference Water Index)"
   ]
  },
  {
   "cell_type": "code",
   "execution_count": null,
   "metadata": {},
   "outputs": [],
   "source": [
    "# Using Green and NIR: (Green - NIR) / (Green + NIR)\n",
    "green_float = GREEN.astype(np.float32)\n",
    "# nir_float already defined\n",
    "\n",
    "ndwi = xr.where(green_float + nir_float == 0, 0, (green_float - nir_float) / (green_float + nir_float))\n",
    "\n",
    "fig, ax = plt.subplots(1, 1, figsize=(10, 8))\n",
    "plot_raster(ndwi, ax, title='NDWI (Normalized Difference Water Index - Green/NIR)', cmap='Blues', cbar_label='NDWI Value')\n",
    "plt.savefig(EDA_OUTPUT_DIR / f\"{Path(selected_s2_path).stem}_ndwi.png\")\n",
    "plt.show()"
   ]
  },
  {
   "cell_type": "markdown",
   "metadata": {},
   "source": [
    "**Observations (NDWI):**\n",
    "- *[TODO: Add observations. This index highlights open water (high positive values) and can indicate soil/vegetation moisture. Are there any old river channels (paleochannels), potential ancient canals, moats, or reservoirs visible? Are there areas of persistently high moisture that might relate to altered drainage from earthworks?]*"
   ]
  },
  {
   "cell_type": "markdown",
   "metadata": {},
   "source": [
    "### 4.3. BSI (Bare Soil Index) - Example of a Soil Index\n",
    "\n",
    "BSI = ((SWIR1 + Red) - (NIR + Blue)) / ((SWIR1 + Red) + (NIR + Blue))\n",
    "This index requires SWIR1 (Band 11 for Sentinel-2). Let's check if we have it."
   ]
  },
  {
   "cell_type": "code",
   "execution_count": null,
   "metadata": {},
   "outputs": [],
   "source": [
    "try:\n",
    "    SWIR1 = get_band(s2_data_xr, 'B11', 4) # Assuming B11 is the 5th band if not named\n",
    "    swir1_float = SWIR1.astype(np.float32)\n",
    "    # blue_float, red_float, nir_float already defined\n",
    "    blue_float = BLUE.astype(np.float32)\n",
    "\n",
    "    numerator = (swir1_float + red_float) - (nir_float + blue_float)\n",
    "    denominator = (swir1_float + red_float) + (nir_float + blue_float)\n",
    "    bsi = xr.where(denominator == 0, 0, numerator / denominator)\n",
    "\n",
    "    fig, ax = plt.subplots(1, 1, figsize=(10, 8))\n",
    "    plot_raster(bsi, ax, title='BSI (Bare Soil Index)', cmap='YlOrBr', cbar_label='BSI Value')\n",
    "    plt.savefig(EDA_OUTPUT_DIR / f\"{Path(selected_s2_path).stem}_bsi.png\")\n",
    "    plt.show()\n",
    "except ValueError as e:\n",
    "    print(f\"Could not calculate BSI: {e}. SWIR1 band (e.g., B11) might not be available in the processed file.\")"
   ]
  },
  {
   "cell_type": "markdown",
   "metadata": {},
   "source": [
    "**Observations (BSI):**\n",
    "- *[TODO: Add observations if BSI was calculated. This index highlights bare soil areas. Are there any patterns of exposed soil that are not modern roads or fields? Could they relate to eroded earthworks or areas where specific soil types (perhaps managed by humans, like 'terra preta') are present near the surface?]*"
   ]
  },
  {
   "cell_type": "markdown",
   "metadata": {},
   "source": [
    "### 4.4. Simple Ratio (NIR / Red) - Vegetation Vigor\n",
    "\n",
    "This is a simpler index related to vegetation density/health."
   ]
  },
  {
   "cell_type": "code",
   "execution_count": null,
   "metadata": {},
   "outputs": [],
   "source": [
    "# nir_float, red_float already defined\n",
    "simple_ratio = xr.where(red_float == 0, 0, nir_float / red_float)\n",
    "\n",
    "fig, ax = plt.subplots(1, 1, figsize=(10, 8))\n",
    "# Using a percentile clip for better visualization as ratios can have extreme values\n",
    "if np.isnan(simple_ratio.data).any():\n",
    "    vmin, vmax = np.nanpercentile(simple_ratio.data, [5, 95])\n",
    "else:\n",
    "    vmin, vmax = np.percentile(simple_ratio.data, [5, 95])\n",
    "\n",
    "im = ax.imshow(simple_ratio, cmap='PiYG', vmin=vmin, vmax=vmax)\n",
    "ax.set_title('Simple Ratio (NIR / Red)')\n",
    "ax.set_xlabel(\"Easting (pixels)\")\n",
    "ax.set_ylabel(\"Northing (pixels)\")\n",
    "plt.colorbar(im, ax=ax, label='SR Value', fraction=0.046, pad=0.04)\n",
    "ax.set_xticks([])\n",
    "ax.set_yticks([])\n",
    "plt.savefig(EDA_OUTPUT_DIR / f\"{Path(selected_s2_path).stem}_simple_ratio.png\")\n",
    "plt.show()"
   ]
  },
  {
   "cell_type": "markdown",
   "metadata": {},
   "source": [
    "**Observations (Simple Ratio):**\n",
    "- *[TODO: Add observations. Similar to NDVI, but more sensitive to high biomass. Note any unusual patterns of vegetation vigor or stress highlighted by this index.]*"
   ]
  },
  {
   "cell_type": "markdown",
   "metadata": {},
   "source": [
    "## 5. Overlaying AOI Boundary (Contextual)\n",
    "\n",
    "If an AOI geometry is available, overlay it on one of the visualizations for context."
   ]
  },
  {
   "cell_type": "code",
   "execution_count": null,
   "metadata": {},
   "outputs": [],
   "source": [
    "if aoi_geom is not None:\n",
    "    fig, ax = plt.subplots(1, 1, figsize=(12, 12))\n",
    "    ax.imshow(true_color_composite) # Using true color as background\n",
    "    \n",
    "    # We need to plot the AOI in pixel coordinates or reproject the raster for geo-coordinates with geopandas. \n",
    "    # For simplicity here, if the AOI is in WGS84 and the raster is projected, direct overlay is complex.\n",
    "    # This section would ideally use the raster's CRS and transform for accurate overlay with geopandas.\n",
    "    # For now, this is a conceptual placeholder if CRS are not aligned for direct plotting.\n",
    "    \n",
    "    # Attempt to plot if AOI is GeoPandas object and raster has CRS\n",
    "    if hasattr(aoi_geom, 'crs') and hasattr(s2_data_xr, 'rio'):\n",
    "        try:\n",
    "            # Ensure AOI is in the same CRS as the raster\n",
    "            if aoi_geom.crs and s2_data_xr.rio.crs:\n",
    "                if aoi_geom.crs.to_string().lower() != s2_data_xr.rio.crs.to_string().lower():\n",
    "                    print(f\"Reprojecting AOI from {aoi_geom.crs} to {s2_data_xr.rio.crs} for overlay.\")\n",
    "                    aoi_geom_reprojected = aoi_geom.to_crs(s2_data_xr.rio.crs)\n",
    "                else:\n",
    "                    aoi_geom_reprojected = aoi_geom\n",
    "                \n",
    "                # Geopandas plot needs the Axes object (ax) and the transform from rasterio\n",
    "                # This part is tricky because imshow sets pixel extent, geopandas plots in geo-coords.\n",
    "                # A better way is to use rasterio.plot.show with geopandas data.\n",
    "                # Resetting plot for proper overlay with rasterio.plot.show\n",
    "                plt.close(fig) # Close the previous imshow figure\n",
    "                fig, ax = plt.subplots(1, 1, figsize=(12, 12))\n",
    "                show(s2_data_xr.isel(band=[configured_bands.index(b) for b in ['B04', 'B03', 'B02']]), ax=ax, transform=s2_data_xr.rio.transform(), rgb_composite=True) # Example for True Color\n",
    "                aoi_geom_reprojected.plot(ax=ax, facecolor='none', edgecolor='red', linewidth=2, label='AOI')\n",
    "                ax.set_title('True Color Composite with AOI Overlay')\n",
    "                plt.legend()\n",
    "                plt.savefig(EDA_OUTPUT_DIR / f\"{Path(selected_s2_path).stem}_true_color_with_aoi.png\")\n",
    "                plt.show()\n",
    "            else:\n",
    "                print(\"AOI or Raster CRS is undefined. Skipping overlay.\")\n",
    "        except Exception as e:\n",
    "            print(f\"Error during AOI overlay: {e}. Skipping overlay.\")\n",
    "            # Fallback to just showing the image if overlay fails\n",
    "            plt.close(fig) # Close any partial figure\n",
    "            fig, ax = plt.subplots(1, 1, figsize=(10,10))\n",
    "            ax.imshow(true_color_composite)\n",
    "            ax.set_title('True Color Composite (AOI Overlay Failed)')\n",
    "            plt.show()\n",
    "else:\n",
    "    print(\"AOI geometry not available, skipping AOI overlay.\")"
   ]
  },
  {
   "cell_type": "markdown",
   "metadata": {},
   "source": [
    "## 6. Summary of Observations & Potential Anomalies\n",
    "\n",
    "Based on the visualizations above:\n",
    "\n",
    "1.  **Overall Landscape:**\n",
    "    *   *[TODO: Briefly describe the general landscape characteristics of the selected AOI based on true/false color images and indices. E.g., predominantly dense forest, areas of agriculture, river systems, etc.]*\n",
    "\n",
    "2.  **Potential Anomalies Noted:**\n",
    "    *   **Feature 1 (Approx. Location/Pixel Coords, Description, Best seen in which composite/index?):**\n",
    "        *   *e.g., A rectangular area of lower NDVI (approx. 200x300 pixels) surrounded by high NDVI forest, not corresponding to any visible modern clearing in true color. Visible near center of NDVI map.*\n",
    "    *   **Feature 2 (Location, Description, Visualization):**\n",
    "        *   *e.g., A faint linear feature visible in the False Color (NIR-R-G) composite, appearing as a slightly different shade of red, suggesting a subtle change in vegetation type or health. Runs E-W in the northern third.*\n",
    "    *   **Feature 3 (Location, Description, Visualization):**\n",
    "        *   *e.g., An area of mottled BSI values (if calculated) that doesn't align with current agricultural fields, suggesting varied soil composition. Best seen in BSI map, western edge.*\n",
    "\n",
    "3.  **Interpretation Difficulty:**\n",
    "    *   *[TODO: Note any challenges. E.g., Cloud shadows or haze remnants affecting index calculations? Difficulty distinguishing natural vegetation variations from potentially anthropogenic ones? Resolution limitations?]*\n",
    "\n",
    "4.  **Next Steps for these Anomalies:**\n",
    "    *   Examine these specific locations at higher resolution if possible (e.g., using commercial imagery if available, or by zooming in if current resolution allows more detail).\n",
    "    *   Cross-reference with LiDAR data if available for the same area to see if there are corresponding topographic features.\n",
    "    *   Search textual data for mentions of activity or features in these specific regions.\n",
    "    *   Consider these for targeted feature engineering (e.g., texture analysis, object-based image analysis if applicable)."
   ]
  },
  {
   "cell_type": "code",
   "execution_count": null,
   "metadata": {},
   "outputs": [],
   "source": []
  }
 ],
 "metadata": {
  "kernelspec": {
   "display_name": "Python 3 (ipykernel)",
   "language": "python",
   "name": "python3"
  },
  "language_info": {
   "codemirror_mode": {
    "name": "ipython",
    "version": 3
   },
   "file_extension": ".py",
   "mimetype": "text/x-python",
   "name": "python",
   "nbconvert_exporter": "python",
   "pygments_lexer": "ipython3",
   "version": "3.9.12" 
  }
 },
 "nbformat": 4,
 "nbformat_minor": 5
}
